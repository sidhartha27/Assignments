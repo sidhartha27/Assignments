{
 "cells": [
  {
   "cell_type": "markdown",
   "id": "3a87e0e8",
   "metadata": {},
   "source": [
    "Q1. What advantages do Excel spreadsheets have over CSV spreadsheets?\n",
    "\n",
    "Ans.\n",
    "\n",
    "It is a binary file that holds information about all the worksheets in a workbook\n",
    "An Excel not only stores data but can also do operations on the data\n",
    "Files saved in excel cannot be opened or edited by text editors\n",
    "large files user is much easier in Excel for the end user. Also, you can have additional functions like selecting individual cells for import, convert dates and time automatically, reading formulas and their results, filters, sorting, etc\n",
    "Apart from text, data can also be stored in form of charts and graphs\n",
    "Excel can connect to external data sources to fetch data. You can use custom add-in in Excel to increase its functionality.\n",
    "Excel allows for Review of Data with detailed tracking and commenting feature\n",
    "In Excel, spreadsheets can have values of data types other than strings; cells can have different fonts, sizes, or color settings; cells can have varying widths and heights; adjacent cells can be merged"
   ]
  },
  {
   "cell_type": "markdown",
   "id": "0096bada",
   "metadata": {},
   "source": [
    "Q2. What do you pass to csv.reader() and csv.writer() to create reader and writer objects?\n",
    "\n",
    "\n",
    "#we pass a File object, obtained from a call to open().\\\n",
    "import csv\\\n",
    "file_csv = open('abc.csv')\\\n",
    "filereader = csv.reader(file_csv)\\\n",
    "fileData = list(filereader)\\\n",
    "fileData\n"
   ]
  },
  {
   "cell_type": "markdown",
   "id": "bf9aad16",
   "metadata": {},
   "source": [
    "Q3. What modes do File objects for reader and writer objects need to be opened in?\n",
    "\n",
    "Ans. File objects need to be opened in read-binary ('rb') for Reader objects and write-binary ('wb') for Writer objects"
   ]
  },
  {
   "cell_type": "markdown",
   "id": "b5985b51",
   "metadata": {},
   "source": [
    "Q4. What method takes a list argument and writes it to a CSV file?\n",
    "\n",
    "\n",
    " #The writerow() method\\\n",
    "File_abc = open('abc.csv','w')\\\n",
    "File_Writer = csv.writer(File_abc)\\\n",
    "csv.writer(File_abc).writerow(['cat','fish','dog'])\\\n",
    "     "
   ]
  },
  {
   "cell_type": "markdown",
   "id": "e7ca24f0",
   "metadata": {},
   "source": [
    "Q5. What do the keyword arguments delimiter and line terminator do?\n",
    "\n",
    "Ans.\n",
    "\n",
    "The delimiter argument changes the string used to separate cells in a row.\\\n",
    "The line terminator argument changes the string used to separate rows."
   ]
  },
  {
   "cell_type": "markdown",
   "id": "01037ef2",
   "metadata": {},
   "source": [
    "Q6. What function takes a string of JSON data and returns a Python data structure?\n",
    "\n",
    "Ans. json.loads()"
   ]
  },
  {
   "cell_type": "markdown",
   "id": "deac5678",
   "metadata": {},
   "source": [
    "Q7. What function takes a Python data structure and returns a string of JSON data?\\\n",
    "\n",
    "Ans. json.dumps()"
   ]
  },
  {
   "cell_type": "code",
   "execution_count": null,
   "id": "9954b9b4",
   "metadata": {},
   "outputs": [],
   "source": []
  }
 ],
 "metadata": {
  "kernelspec": {
   "display_name": "Python 3 (ipykernel)",
   "language": "python",
   "name": "python3"
  },
  "language_info": {
   "codemirror_mode": {
    "name": "ipython",
    "version": 3
   },
   "file_extension": ".py",
   "mimetype": "text/x-python",
   "name": "python",
   "nbconvert_exporter": "python",
   "pygments_lexer": "ipython3",
   "version": "3.9.12"
  }
 },
 "nbformat": 4,
 "nbformat_minor": 5
}
