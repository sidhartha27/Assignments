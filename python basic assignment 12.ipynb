{
 "cells": [
  {
   "cell_type": "markdown",
   "id": "35beb234",
   "metadata": {},
   "source": [
    "Q1. In what modes should the PdfFileReader() and PdfFileWriter() File objects will be opened?\n",
    "\n",
    "These files will be opened in binary mode., read binary (rb) for PdfFileREader() and write binary (wb) PdfFileWriter()"
   ]
  },
  {
   "cell_type": "markdown",
   "id": "04b43283",
   "metadata": {},
   "source": [
    "Q2. From a PdfFileReader object, how do you get a Page object for page 5?\n",
    "\n",
    "Ans. Calling getPage(4) will return a Page object for page 5 since page 0 is the first page\n"
   ]
  },
  {
   "cell_type": "markdown",
   "id": "a6e252c1",
   "metadata": {},
   "source": [
    "Q3. What PdfFileReader variable stores the number of pages in the PDF document?\n",
    "\n",
    "\n",
    "import PyPDF2 as pdf\\\n",
    "pdfFileObj = open(\"cardealer.pdf\",'rb')\\\n",
    "pdfReader = pdf.PdfFileReader(pdfFileObj)\\\n",
    "pdfReader.numPages"
   ]
  },
  {
   "cell_type": "markdown",
   "id": "a190df94",
   "metadata": {},
   "source": [
    "Q4. If a PdfFileReader object’s PDF is encrypted with the password swordfish, what must you do before you can obtain Page objects from it?\n",
    "\n",
    "Ans. Before we obtain the page object, the pdf has to be decrypted by calling .decrypt('swordfish')"
   ]
  },
  {
   "cell_type": "code",
   "execution_count": 2,
   "id": "18f46fac",
   "metadata": {},
   "outputs": [],
   "source": [
    "Q5. What methods do you use to rotate a page?\n",
    "\n",
    "\n",
    "#pageObj.rotateClockwise(180)\n",
    "\n",
    "#The rotateClockwise() and rotateCounterClockwise() methods. The degrees to rotate is passed as an integer argument"
   ]
  },
  {
   "cell_type": "markdown",
   "id": "49348e73",
   "metadata": {},
   "source": [
    "Q6. What is the difference between a Run object and a Paragraph object?\n",
    "\n",
    "Ans.\n",
    "\n",
    "Paragraph Object : A document contains multiple paragraphs. A paragraph begins on a new line and contains multiple\n",
    "runs. The Document object contains a list of Paragraph objects for the paragraphs in the document. (A new paragraph begins whenever the user presses ENTER or RETURN while typing in a Word document.)\n",
    "\n",
    "Run Objects : Runs are contiguous groups of characters within a paragraph with the same style"
   ]
  },
  {
   "cell_type": "markdown",
   "id": "a406ce5f",
   "metadata": {},
   "source": [
    "Q8. What type of object has bold, underline, italic, strike, and outline variables?\n",
    "\n",
    "Ans. A Run object has bold, underline,italic,strike and outline variables"
   ]
  },
  {
   "cell_type": "code",
   "execution_count": null,
   "id": "f55a55cb",
   "metadata": {},
   "outputs": [],
   "source": []
  }
 ],
 "metadata": {
  "kernelspec": {
   "display_name": "Python 3 (ipykernel)",
   "language": "python",
   "name": "python3"
  },
  "language_info": {
   "codemirror_mode": {
    "name": "ipython",
    "version": 3
   },
   "file_extension": ".py",
   "mimetype": "text/x-python",
   "name": "python",
   "nbconvert_exporter": "python",
   "pygments_lexer": "ipython3",
   "version": "3.9.12"
  }
 },
 "nbformat": 4,
 "nbformat_minor": 5
}
