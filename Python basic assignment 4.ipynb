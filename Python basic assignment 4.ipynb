{
 "cells": [
  {
   "cell_type": "markdown",
   "id": "ffa950c3",
   "metadata": {},
   "source": [
    "1. What exactly is [ ]?\n",
    "\n",
    "Ans : - [ ] is a empty list."
   ]
  },
  {
   "cell_type": "code",
   "execution_count": 7,
   "id": "7d6c02cb",
   "metadata": {},
   "outputs": [
    {
     "data": {
      "text/plain": [
       "[2, 4, 'hello', 8, 10]"
      ]
     },
     "execution_count": 7,
     "metadata": {},
     "output_type": "execute_result"
    }
   ],
   "source": [
    "#Q2. In a list of values stored in a variable called spam, how would you assign the value hello' as the third value? (Assume [2, 4, 6, 8, 10] are in spam.)\n",
    "\n",
    "\n",
    "# solution by changing the value in index 3\n",
    "spam = [2, 4, 6, 8, 10]\n",
    "spam[2] = 'hello'\n",
    "spam\n",
    "     "
   ]
  },
  {
   "cell_type": "code",
   "execution_count": 8,
   "id": "be55593e",
   "metadata": {},
   "outputs": [
    {
     "data": {
      "text/plain": [
       "'d'"
      ]
     },
     "execution_count": 8,
     "metadata": {},
     "output_type": "execute_result"
    }
   ],
   "source": [
    "#Q3. What is the value of spam[int(int(3 * 2) / 11)]?\n",
    "\n",
    "spam = ['a', 'b','c','d']\n",
    "spam[int(int('3' * 2) / 11)] \n",
    "#spam[3]     "
   ]
  },
  {
   "cell_type": "code",
   "execution_count": 9,
   "id": "c8ba56c7",
   "metadata": {},
   "outputs": [
    {
     "data": {
      "text/plain": [
       "'d'"
      ]
     },
     "execution_count": 9,
     "metadata": {},
     "output_type": "execute_result"
    }
   ],
   "source": [
    "#Q4. What is the value of spam[-1]?\n",
    "\n",
    "spam = ['a', 'b','c','d']\n",
    "spam[-1] # negative index # d"
   ]
  },
  {
   "cell_type": "code",
   "execution_count": 10,
   "id": "d908b1fa",
   "metadata": {},
   "outputs": [
    {
     "data": {
      "text/plain": [
       "['a', 'b']"
      ]
     },
     "execution_count": 10,
     "metadata": {},
     "output_type": "execute_result"
    }
   ],
   "source": [
    "#Q5. What is the value of spam[:2]?\n",
    "\n",
    "spam[:2] "
   ]
  },
  {
   "cell_type": "markdown",
   "id": "7c417200",
   "metadata": {},
   "source": [
    "Let&#39;s pretend bacon has the list [3.14, &#39;cat,&#39; 11, &#39;cat,&#39; True] for the next three questions."
   ]
  },
  {
   "cell_type": "markdown",
   "id": "8a27eb3d",
   "metadata": {},
   "source": [
    "7. How does bacon.append(99) change the look of the list value in bacon?"
   ]
  },
  {
   "cell_type": "code",
   "execution_count": 11,
   "id": "bdb590e0",
   "metadata": {},
   "outputs": [
    {
     "data": {
      "text/plain": [
       "[3.14, 'cat', 11, 'cat', True, 99]"
      ]
     },
     "execution_count": 11,
     "metadata": {},
     "output_type": "execute_result"
    }
   ],
   "source": [
    "bacon = [3.14, 'cat', 11, 'cat', True]\n",
    "bacon.append(99) # append adds the item at the end of the list\n",
    "bacon\n",
    "     "
   ]
  },
  {
   "cell_type": "markdown",
   "id": "57ca129a",
   "metadata": {},
   "source": [
    "8. How does bacon.remove(&#39;cat&#39;) change the look of the list in bacon?"
   ]
  },
  {
   "cell_type": "code",
   "execution_count": 12,
   "id": "d07f9e86",
   "metadata": {},
   "outputs": [
    {
     "data": {
      "text/plain": [
       "[3.14, 11, 'cat', True]"
      ]
     },
     "execution_count": 12,
     "metadata": {},
     "output_type": "execute_result"
    }
   ],
   "source": [
    "bacon = [3.14, 'cat', 11, 'cat', True]\n",
    "bacon.remove('cat') # remove first occurrence of item\n",
    "bacon"
   ]
  },
  {
   "cell_type": "markdown",
   "id": "dfe08d42",
   "metadata": {},
   "source": [
    "9. What are the list concatenation and list replication operators?\n",
    "\n",
    "ans- ( * ) is list replication operator\\\n",
    "( + ) is list concatination operator\n",
    "\n"
   ]
  },
  {
   "cell_type": "markdown",
   "id": "a3c892f5",
   "metadata": {},
   "source": [
    "10. What is difference between the list methods append() and insert()?\n",
    "\n",
    "ans- append() Appends object to the end of the list \\\n",
    "insert() Insert object before index"
   ]
  },
  {
   "cell_type": "markdown",
   "id": "93f53a2d",
   "metadata": {},
   "source": [
    "11. What are the two methods for removing items from a list?\n",
    "\n",
    "remove(item) - removeds first occurence of a item\\\n",
    "pop() - Remove and returns item at index (default last).\n"
   ]
  },
  {
   "cell_type": "markdown",
   "id": "87b40709",
   "metadata": {},
   "source": [
    "12. Describe how list values and string values are identical.\n",
    "\n",
    "Both lists and strings can be passed to len()\\\n",
    "Both have indexes and slices\\\n",
    "Can be used in for loops\n"
   ]
  },
  {
   "cell_type": "markdown",
   "id": "fc726e9a",
   "metadata": {},
   "source": [
    "13. What&#39;s the difference between tuples and lists?\n",
    "\n",
    "Lists : are mutable - they can have values added, removed, or changed. lists use the square brackets, [ ]\\\n",
    "Tuples : are immutable; they cannot be changed at all. Tuples are written using parentheses, ( )"
   ]
  },
  {
   "cell_type": "markdown",
   "id": "436cd285",
   "metadata": {},
   "source": [
    "14. How do you type a tuple value that only contains the integer 42?\n",
    "\n",
    "ans. t=(42)"
   ]
  },
  {
   "cell_type": "markdown",
   "id": "0ce73a19",
   "metadata": {},
   "source": [
    "15. How do you get a list value&#39;s tuple form? How do you get a tuple value&#39;s list form?"
   ]
  },
  {
   "cell_type": "code",
   "execution_count": 18,
   "id": "0db6dcca",
   "metadata": {},
   "outputs": [
    {
     "data": {
      "text/plain": [
       "(5, 7)"
      ]
     },
     "execution_count": 18,
     "metadata": {},
     "output_type": "execute_result"
    }
   ],
   "source": [
    "l1 = [5,7] #list\n",
    "l = tuple(l1) ##changing into tuple\n",
    "l\n"
   ]
  },
  {
   "cell_type": "code",
   "execution_count": 19,
   "id": "a7a9f227",
   "metadata": {},
   "outputs": [
    {
     "data": {
      "text/plain": [
       "[5, 7]"
      ]
     },
     "execution_count": 19,
     "metadata": {},
     "output_type": "execute_result"
    }
   ],
   "source": [
    "t1 = (5,7) ##tuple\n",
    "t = list(t1) ##changing into list\n",
    "t"
   ]
  },
  {
   "cell_type": "markdown",
   "id": "32a21581",
   "metadata": {},
   "source": [
    "16. Variables that &quot;contain&quot; list values are not necessarily lists themselves. Instead, what do they\n",
    "contain?\n",
    "\n",
    "Ans. They contain references to list values"
   ]
  },
  {
   "cell_type": "markdown",
   "id": "aa53757e",
   "metadata": {},
   "source": [
    "17. How do you distinguish between copy.copy() and copy.deepcopy()?\n",
    "\n",
    "Ans . The copy.copy() function will do a shallow copy of a list,\\\n",
    "The copy.deepcopy() function will do a deep copy of a list. "
   ]
  },
  {
   "cell_type": "code",
   "execution_count": null,
   "id": "f5c990b0",
   "metadata": {},
   "outputs": [],
   "source": []
  }
 ],
 "metadata": {
  "kernelspec": {
   "display_name": "Python 3 (ipykernel)",
   "language": "python",
   "name": "python3"
  },
  "language_info": {
   "codemirror_mode": {
    "name": "ipython",
    "version": 3
   },
   "file_extension": ".py",
   "mimetype": "text/x-python",
   "name": "python",
   "nbconvert_exporter": "python",
   "pygments_lexer": "ipython3",
   "version": "3.9.12"
  }
 },
 "nbformat": 4,
 "nbformat_minor": 5
}
