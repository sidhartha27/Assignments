{
 "cells": [
  {
   "cell_type": "code",
   "execution_count": 3,
   "id": "e5db136a",
   "metadata": {},
   "outputs": [
    {
     "name": "stdout",
     "output_type": "stream",
     "text": [
      "Enter a : 5\n",
      "Enter b : 6\n",
      "Enter c : 4\n",
      "0\n"
     ]
    }
   ],
   "source": [
    "#Q1. reate a function that takes three arguments a, b, c and returns the sum of the\n",
    "#numbers that are evenly divided by c from the range a, b inclusive. Examples evenly_divisible(1, 10, 20) ➞ 0 No number between 1 and 10 can be evenly divided by 20. evenly_divisible(1, 10, 2) ➞ 30 2 + 4 + 6 + 8 + 10 = 30 evenly_divisible(1, 10, 3) ➞ 18 3 + 6 + 9 = 18\n",
    "\n",
    "\n",
    "def abc(a, b, c):     \n",
    "    sum = 0\n",
    "    for i in range(a, b + 1): \n",
    "        if (i % c == 0):\n",
    "            sum += i \n",
    "    return sum\n",
    "a = int(input('Enter a : '))\n",
    "b = int(input('Enter b : '))\n",
    "c = int(input('Enter c : '))\n",
    "print(abc(a, b, c))"
   ]
  },
  {
   "cell_type": "code",
   "execution_count": 4,
   "id": "b1b360ec",
   "metadata": {},
   "outputs": [
    {
     "name": "stdout",
     "output_type": "stream",
     "text": [
      "False\n",
      "False\n",
      "True\n"
     ]
    }
   ],
   "source": [
    "#Q2. Create a function that returns True if a given inequality expression is correct and False otherwise. Examples correct_signs(\"3 > 7 < 11\") ➞ True correct_signs(\"13 > 44 > 33 > 1\") ➞ False correct_signs(\"1 < 2 < 6 < 9 > 3\") ➞ True\n",
    "\n",
    "\n",
    "def correct_signs ( txt ) : \n",
    "    return eval ( txt )\n",
    "print(correct_signs(\"3 > 7 < 11\"))\n",
    "print(correct_signs(\"13 > 44 > 33 > 1\"))\n",
    "print(correct_signs(\"1 < 2 < 6 < 9 > 3\"))"
   ]
  },
  {
   "cell_type": "code",
   "execution_count": 6,
   "id": "49a1fe2c",
   "metadata": {},
   "outputs": [
    {
     "name": "stdout",
     "output_type": "stream",
     "text": [
      "enter a string : jksncj usis\n",
      "enter a vowel replacing string : klsoimpoxxuaji sui\n",
      "\n",
      "Given Sting: jksncj usis\n",
      "Given Specified Character: klsoimpoxxuaji sui\n",
      "Afer replacing vowels with the specified character: jksncj klsoimpoxxuaji suisklsklsoimpoxxklsoimpoxxuaji suiaji sklsoimpoxxuaji suiiimpklsoimpoxxklsoimpoxxuaji suiaji sklsoimpoxxuaji suiixxklsoimpoxxuaji suiaji sklsoimpoxxuaji suiis\n"
     ]
    }
   ],
   "source": [
    "#Q3. Create a function that replaces all the vowels in a string with a specified character.\n",
    "#Examples replace_vowels('the aardvark, '#') ➞ 'th# ##rdv#rk' replace_vowels('minnie mouse', '?') ➞ 'm?nn?? m??s?' replace_vowels('shakespeare', '') ➞ 'shkspr'\n",
    "\n",
    "\n",
    "def replace_vowels(str, s):\n",
    "    vowels = 'AEIOUaeiou'\n",
    "    for ele in vowels:  \n",
    "        str = str.replace(ele, s)  \n",
    "    return str\n",
    "  \n",
    "input_str = input(\"enter a string : \")\n",
    "s = input(\"enter a vowel replacing string : \")\n",
    "print(\"\\nGiven Sting:\", input_str)\n",
    "print(\"Given Specified Character:\", s)\n",
    "print(\"Afer replacing vowels with the specified character:\",replace_vowels(input_str, s))"
   ]
  },
  {
   "cell_type": "code",
   "execution_count": 7,
   "id": "b94e2a5a",
   "metadata": {},
   "outputs": [
    {
     "name": "stdout",
     "output_type": "stream",
     "text": [
      "enter a number :56\n",
      "Factorial of 56 is 710998587804863451854045647463724949736497978881168458687447040000000000000\n"
     ]
    }
   ],
   "source": [
    "#Q4. Write a function that calculates the factorial of a number recursively.\n",
    "\n",
    "#Examples factorial(5) ➞ 120 factorial(3) ➞ 6 factorial(1) ➞ 1 factorial(0) ➞ 1\n",
    "\n",
    "\n",
    "def factorial(n):     \n",
    "    if n == 0:\n",
    "        return 1    \n",
    "    return n * factorial(n-1)\n",
    "\n",
    "num = int(input('enter a number :'))\n",
    "print(\"Factorial of\", num, \"is\", factorial(num))"
   ]
  },
  {
   "cell_type": "code",
   "execution_count": 8,
   "id": "2cc5b296",
   "metadata": {},
   "outputs": [
    {
     "name": "stdout",
     "output_type": "stream",
     "text": [
      "5\n"
     ]
    }
   ],
   "source": [
    "#Q5 Hamming distance is the number of characters that differ between two strings.\n",
    "#To illustrate: String1: 'abcbba' String2: 'abcbda' Hamming Distance: 1 - 'b' vs. 'd' is the only difference. Create a function that computes the hamming distance between two strings. Examples hamming_distance('abcde', 'bcdef') ➞ 5 hamming_distance('abcde', 'abcde') ➞ 0 hamming_distance('strong', 'strung') ➞ 1\n",
    "\n",
    "\n",
    "def hamming_distance(str1, str2):\n",
    "    i = 0\n",
    "    count = 0\n",
    " \n",
    "    while(i < len(str1)):\n",
    "        if(str1[i] != str2[i]):\n",
    "            count += 1\n",
    "        i += 1\n",
    "    return count\n",
    " \n",
    "\n",
    "str1 = \"abcde\"\n",
    "str2 = \"bcdef\"\n",
    " \n",
    "print(hamming_distance(str1, str2))"
   ]
  },
  {
   "cell_type": "code",
   "execution_count": null,
   "id": "86fd5947",
   "metadata": {},
   "outputs": [],
   "source": []
  }
 ],
 "metadata": {
  "kernelspec": {
   "display_name": "Python 3 (ipykernel)",
   "language": "python",
   "name": "python3"
  },
  "language_info": {
   "codemirror_mode": {
    "name": "ipython",
    "version": 3
   },
   "file_extension": ".py",
   "mimetype": "text/x-python",
   "name": "python",
   "nbconvert_exporter": "python",
   "pygments_lexer": "ipython3",
   "version": "3.9.12"
  }
 },
 "nbformat": 4,
 "nbformat_minor": 5
}
