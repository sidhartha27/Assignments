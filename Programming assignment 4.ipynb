{
 "cells": [
  {
   "cell_type": "code",
   "execution_count": 2,
   "id": "48c311fd",
   "metadata": {},
   "outputs": [
    {
     "name": "stdout",
     "output_type": "stream",
     "text": [
      "Enter a Number 10\n",
      "Factorial of 10 is 3628800\n"
     ]
    }
   ],
   "source": [
    "#Q1. Write a Python Program to Find the Factorial of a Number?\n",
    "\n",
    "#answer\n",
    "x = int(input(\"Enter a Number \"))\n",
    "factorial = 1\n",
    "if x < 0:\n",
    "    print(\"Can not calculate Factorial of a negative number\")\n",
    "elif x == 0:\n",
    "    print(\"Factorial of zero is 1\")\n",
    "else:\n",
    "    for i in range(1,x+1):\n",
    "        factorial = factorial * i\n",
    "print(\"Factorial of {} is {}\".format(x, factorial))"
   ]
  },
  {
   "cell_type": "code",
   "execution_count": 3,
   "id": "3223a59a",
   "metadata": {},
   "outputs": [
    {
     "name": "stdout",
     "output_type": "stream",
     "text": [
      "Enter a no for Table10\n",
      "Multiplication table for 10\n",
      "10 x 1 = 10\n",
      "10 x 2 = 20\n",
      "10 x 3 = 30\n",
      "10 x 4 = 40\n",
      "10 x 5 = 50\n",
      "10 x 6 = 60\n",
      "10 x 7 = 70\n",
      "10 x 8 = 80\n",
      "10 x 9 = 90\n",
      "10 x 10 = 100\n"
     ]
    }
   ],
   "source": [
    "#Q2. Write a Python Program to Display the multiplication Table?\n",
    "\n",
    "#answer\n",
    "x = int(input(\"Enter a no for Table\"))\n",
    "print(\"Multiplication table for\",x)\n",
    "for i in range(1,11):\n",
    "    print(\"{} x {} = {}\".format(x , i , x*i))"
   ]
  },
  {
   "cell_type": "code",
   "execution_count": 4,
   "id": "d0242256",
   "metadata": {},
   "outputs": [],
   "source": [
    "#Q3. Write a Python Program to Print the Fibonacci sequence?\n",
    "\n",
    "# Fibonacci series - > 1, 1, 2, 3, 5,8,13........\n",
    "def genfib(n):\n",
    "    a =1\n",
    "    b= 1\n",
    "    l =[]\n",
    "    for i in range(n):\n",
    "        l.append(a)\n",
    "        a , b = b , a+b\n",
    "    return l  "
   ]
  },
  {
   "cell_type": "code",
   "execution_count": 6,
   "id": "ccf26cf0",
   "metadata": {},
   "outputs": [
    {
     "data": {
      "text/plain": [
       "[1, 1, 2, 3, 5, 8, 13, 21, 34, 55]"
      ]
     },
     "execution_count": 6,
     "metadata": {},
     "output_type": "execute_result"
    }
   ],
   "source": [
    "genfib(10)"
   ]
  },
  {
   "cell_type": "code",
   "execution_count": 7,
   "id": "9ccf6f0b",
   "metadata": {},
   "outputs": [
    {
     "name": "stdout",
     "output_type": "stream",
     "text": [
      "Enter the number : 10\n",
      "Not an armstrong number\n"
     ]
    }
   ],
   "source": [
    "#Q4. Write a Python Program to Check Armstrong Number?\n",
    "#answer\n",
    "x = int(input(\"Enter the number : \"))\n",
    "\n",
    "power = len(str(x))\n",
    "\n",
    "y = x\n",
    "sum = 0\n",
    "while y > 0:\n",
    "    digit = y % 10\n",
    "    sum = sum + digit ** power\n",
    "    y = y//10\n",
    "if x == sum :\n",
    "    print(\"Number is armstrong number\")\n",
    "else:\n",
    "    print(\"Not an armstrong number\")"
   ]
  },
  {
   "cell_type": "code",
   "execution_count": 8,
   "id": "fd3074e7",
   "metadata": {},
   "outputs": [
    {
     "name": "stdout",
     "output_type": "stream",
     "text": [
      "Low no : 1\n",
      "Up no : 100\n",
      "1\n",
      "2\n",
      "3\n",
      "4\n",
      "5\n",
      "6\n",
      "7\n",
      "8\n",
      "9\n"
     ]
    }
   ],
   "source": [
    "#Q5. Write a Python Program to Find Armstrong Number in an Interval?\n",
    "#answer\n",
    "## Find Armstrong Number in an Interval\n",
    "x = int(input(\"Low no : \"))\n",
    "y = int(input(\"Up no : \"))\n",
    "\n",
    "\n",
    "for i in range(x,y+1):\n",
    "    power = len(str(i))\n",
    "    temp = i\n",
    "    sum = 0\n",
    "    while temp > 0:\n",
    "        digit = temp % 10\n",
    "        sum = sum + digit ** power\n",
    "        temp = temp//10\n",
    "    if i == sum :\n",
    "        print(i)"
   ]
  },
  {
   "cell_type": "code",
   "execution_count": 9,
   "id": "bc390317",
   "metadata": {},
   "outputs": [
    {
     "name": "stdout",
     "output_type": "stream",
     "text": [
      "enter the number : 10\n",
      "Sum of natural numbers upto 10 is 55\n"
     ]
    }
   ],
   "source": [
    "#Q6. Write a Python Program to Find the Sum of Natural Numbers?\n",
    "#answer\n",
    "x = int(input(\"enter the number : \"))\n",
    "\n",
    "sum = 0\n",
    "for i in range(0,x+1):\n",
    "    sum+=i\n",
    "print(\"Sum of natural numbers upto {} is {}\".format(x,sum))"
   ]
  },
  {
   "cell_type": "code",
   "execution_count": null,
   "id": "a52eec49",
   "metadata": {},
   "outputs": [],
   "source": []
  }
 ],
 "metadata": {
  "kernelspec": {
   "display_name": "Python 3 (ipykernel)",
   "language": "python",
   "name": "python3"
  },
  "language_info": {
   "codemirror_mode": {
    "name": "ipython",
    "version": 3
   },
   "file_extension": ".py",
   "mimetype": "text/x-python",
   "name": "python",
   "nbconvert_exporter": "python",
   "pygments_lexer": "ipython3",
   "version": "3.9.12"
  }
 },
 "nbformat": 4,
 "nbformat_minor": 5
}
