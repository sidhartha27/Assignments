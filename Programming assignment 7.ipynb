{
 "cells": [
  {
   "cell_type": "code",
   "execution_count": 2,
   "id": "1f5a256c",
   "metadata": {},
   "outputs": [
    {
     "name": "stdout",
     "output_type": "stream",
     "text": [
      "Sum :  283\n"
     ]
    }
   ],
   "source": [
    "#Q1. Write a Python Program to find sum of array?\n",
    "\n",
    "\n",
    "sum =0\n",
    "arr = [6,5,4,86,95,75,12]\n",
    "for i in range(0,len(arr)):\n",
    "    sum+=arr[i]\n",
    "print(\"Sum : \",sum)"
   ]
  },
  {
   "cell_type": "code",
   "execution_count": 4,
   "id": "3ba29cda",
   "metadata": {},
   "outputs": [
    {
     "name": "stdout",
     "output_type": "stream",
     "text": [
      "77\n"
     ]
    }
   ],
   "source": [
    "#Q2. Write a Python Program to find largest element in an array?\n",
    "\n",
    "\n",
    "c = 0\n",
    "arr = [1,2,3,4,77,9]\n",
    "for i in range(0, len(arr)):\n",
    "  if c > arr[i]:\n",
    "    print(c)\n",
    "  else :\n",
    "    c = arr[i]\n",
    "\n",
    " \n",
    "\n",
    "  "
   ]
  },
  {
   "cell_type": "code",
   "execution_count": 5,
   "id": "a8d3a2e4",
   "metadata": {},
   "outputs": [
    {
     "name": "stdout",
     "output_type": "stream",
     "text": [
      "9\n",
      "77\n",
      "4\n",
      "3\n",
      "2\n"
     ]
    }
   ],
   "source": [
    "#Q3. Write a Python Program for array rotation?\n",
    "\n",
    "\n",
    "arr = [1,2,3,4,77,9]\n",
    "rot = []\n",
    "l = len(arr) -1\n",
    "for i in range(l , 0, -1):\n",
    "  print(arr[i])"
   ]
  },
  {
   "cell_type": "code",
   "execution_count": 8,
   "id": "020878c8",
   "metadata": {},
   "outputs": [
    {
     "name": "stdout",
     "output_type": "stream",
     "text": [
      "Enter the lenth of arr : 10\n",
      "5\n",
      "6\n",
      "8\n",
      "7\n",
      "9\n",
      "1\n",
      "2\n",
      "6\n",
      "7\n",
      "5\n",
      "Arr is  [5, 6, 8, 7, 9, 1, 2, 6, 7, 5]\n",
      "Enter Rotation Right/Left : left\n",
      "Enter the number of elements to rotate  : 4\n",
      "After Left rotation :  [9, 1, 2, 6, 7, 5, 5, 6, 8, 7]\n"
     ]
    }
   ],
   "source": [
    "#Q4. Write a Python Program for array rotation?\n",
    "\n",
    "\n",
    "l = int(input(\"Enter the lenth of arr : \"))\n",
    "arr = []\n",
    "\n",
    "for i in range(l):\n",
    "    arr.append(int(input()))\n",
    "print(\"Arr is \",arr)\n",
    "rotation = input(\"Enter Rotation Right/Left : \")\n",
    "noro = int(input(\"Enter the number of elements to rotate  : \"))\n",
    "if noro > l:\n",
    "    print(\"can not rotate as elements to rotate is larger then arr length\")\n",
    "else:\n",
    "    rarr = []\n",
    "    if rotation.upper() == \"RIGHT\":\n",
    "        rarr[:] = arr[-noro:] + arr[:(l-noro)]\n",
    "        print(\"After right rotation : \",rarr)\n",
    "    elif rotation.upper() == \"LEFT\":\n",
    "        rarr[:] = arr[noro:l] + arr[:noro] \n",
    "        print(\"After Left rotation : \",rarr)\n",
    "    else:\n",
    "        print(\"Wrong Entry\")\n",
    "     "
   ]
  },
  {
   "cell_type": "code",
   "execution_count": 9,
   "id": "80e0554a",
   "metadata": {},
   "outputs": [
    {
     "name": "stdout",
     "output_type": "stream",
     "text": [
      "Enter the lenth of your list : 5\n",
      "4\n",
      "8\n",
      "5\n",
      "6\n",
      "7\n",
      "The List   [4, 8, 5, 6, 7]\n",
      "Enter the number of elements to split  : 3\n",
      "The split list is : [4, 8, 5]\n",
      "The List after split and add : [6, 7, 4, 8, 5]\n"
     ]
    }
   ],
   "source": [
    "#Q5.  Write a Python Program to Split the array and add the first part to the end?\n",
    "\n",
    "\n",
    "l = int(input(\"Enter the lenth of your list : \"))\n",
    "arr = []\n",
    "\n",
    "for i in range(l):\n",
    "    arr.append(int(input()))\n",
    "print(\"The List  \",arr)\n",
    "\n",
    "noro = int(input(\"Enter the number of elements to split  : \"))\n",
    "if noro > l:\n",
    "    print(\"can not split as elements to split is larger then list lengh\")\n",
    "else:\n",
    "    print(\"The split list is :\",arr[:noro])\n",
    "    rarr[:] = arr[noro:l] + arr[:noro]\n",
    "    print(\"The List after split and add :\", rarr)"
   ]
  },
  {
   "cell_type": "code",
   "execution_count": null,
   "id": "711c9813",
   "metadata": {},
   "outputs": [],
   "source": []
  }
 ],
 "metadata": {
  "kernelspec": {
   "display_name": "Python 3 (ipykernel)",
   "language": "python",
   "name": "python3"
  },
  "language_info": {
   "codemirror_mode": {
    "name": "ipython",
    "version": 3
   },
   "file_extension": ".py",
   "mimetype": "text/x-python",
   "name": "python",
   "nbconvert_exporter": "python",
   "pygments_lexer": "ipython3",
   "version": "3.9.12"
  }
 },
 "nbformat": 4,
 "nbformat_minor": 5
}
