{
 "cells": [
  {
   "cell_type": "markdown",
   "id": "92ca97cd",
   "metadata": {},
   "source": [
    "1) * is expression \\\n",
    "   'hello' is string\\\n",
    "    -87.8 is int\\\n",
    "    -  is expression\\\n",
    "    / is expression\\\n",
    "    + is expression\\\n",
    "    6 is int"
   ]
  },
  {
   "cell_type": "markdown",
   "id": "e9b35e4f",
   "metadata": {},
   "source": [
    "2)  A  String is a type of information we would store in a Variable and Variable is a store of information."
   ]
  },
  {
   "cell_type": "raw",
   "id": "44381969",
   "metadata": {},
   "source": [
    "3) string datatype\n",
    "   int datatype \n",
    "   boolean datatype"
   ]
  },
  {
   "cell_type": "raw",
   "id": "64fa5341",
   "metadata": {},
   "source": [
    "4) An expression is made up of operators, constants and variables . they do different mathematical operations depending upon their datatypes"
   ]
  },
  {
   "cell_type": "raw",
   "id": "804661b0",
   "metadata": {},
   "source": [
    "5) An expression evaluates to a single value. A statement does not do the same."
   ]
  },
  {
   "cell_type": "code",
   "execution_count": 2,
   "id": "03410ad1",
   "metadata": {},
   "outputs": [
    {
     "data": {
      "text/plain": [
       "23"
      ]
     },
     "execution_count": 2,
     "metadata": {},
     "output_type": "execute_result"
    }
   ],
   "source": [
    "bacon = 22\n",
    "bacon + 1"
   ]
  },
  {
   "cell_type": "code",
   "execution_count": 3,
   "id": "f39bb3c7",
   "metadata": {},
   "outputs": [
    {
     "data": {
      "text/plain": [
       "22"
      ]
     },
     "execution_count": 3,
     "metadata": {},
     "output_type": "execute_result"
    }
   ],
   "source": [
    "bacon"
   ]
  },
  {
   "cell_type": "raw",
   "id": "4463c495",
   "metadata": {},
   "source": [
    "6) The bacon variable is 22. "
   ]
  },
  {
   "cell_type": "raw",
   "id": "2e0c9375",
   "metadata": {},
   "source": [
    "7) 'spamspamspam'\n",
    "   'spamspamspam'"
   ]
  },
  {
   "cell_type": "raw",
   "id": "57b7f16c",
   "metadata": {},
   "source": [
    "8) Variable names cannot begin with a number , it has to be alphabet."
   ]
  },
  {
   "cell_type": "raw",
   "id": "21a82981",
   "metadata": {},
   "source": [
    "9) int(), float(), str() "
   ]
  },
  {
   "cell_type": "code",
   "execution_count": 5,
   "id": "5fba128c",
   "metadata": {},
   "outputs": [
    {
     "ename": "TypeError",
     "evalue": "can only concatenate str (not \"int\") to str",
     "output_type": "error",
     "traceback": [
      "\u001b[1;31m---------------------------------------------------------------------------\u001b[0m",
      "\u001b[1;31mTypeError\u001b[0m                                 Traceback (most recent call last)",
      "Input \u001b[1;32mIn [5]\u001b[0m, in \u001b[0;36m<cell line: 1>\u001b[1;34m()\u001b[0m\n\u001b[1;32m----> 1\u001b[0m \u001b[38;5;124;43m'\u001b[39;49m\u001b[38;5;124;43mI have eaten \u001b[39;49m\u001b[38;5;124;43m'\u001b[39;49m\u001b[43m \u001b[49m\u001b[38;5;241;43m+\u001b[39;49m\u001b[43m \u001b[49m\u001b[38;5;241;43m99\u001b[39;49m \u001b[38;5;241m+\u001b[39m \u001b[38;5;124m'\u001b[39m\u001b[38;5;124m burritos.\u001b[39m\u001b[38;5;124m'\u001b[39m\n",
      "\u001b[1;31mTypeError\u001b[0m: can only concatenate str (not \"int\") to str"
     ]
    }
   ],
   "source": [
    "'I have eaten ' + 99 + ' burritos.'"
   ]
  },
  {
   "cell_type": "raw",
   "id": "2cca5542",
   "metadata": {},
   "source": [
    "10) because of their different datatypes this expression cause an error."
   ]
  }
 ],
 "metadata": {
  "kernelspec": {
   "display_name": "Python 3 (ipykernel)",
   "language": "python",
   "name": "python3"
  },
  "language_info": {
   "codemirror_mode": {
    "name": "ipython",
    "version": 3
   },
   "file_extension": ".py",
   "mimetype": "text/x-python",
   "name": "python",
   "nbconvert_exporter": "python",
   "pygments_lexer": "ipython3",
   "version": "3.9.12"
  }
 },
 "nbformat": 4,
 "nbformat_minor": 5
}
