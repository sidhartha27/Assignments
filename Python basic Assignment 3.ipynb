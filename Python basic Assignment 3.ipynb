{
 "cells": [
  {
   "cell_type": "markdown",
   "id": "b774de3b",
   "metadata": {},
   "source": [
    "Q1. Why are functions advantageous to have in your programs?\n",
    "\n",
    "ans- With the help of functions, we can avoid rewriting the same logic or code again and again in a program. In a single Program, we can call Python functions anywhere and also call multiple times. We can track a large Python program easily when it is divided into multiple functions"
   ]
  },
  {
   "cell_type": "markdown",
   "id": "3c0b3220",
   "metadata": {},
   "source": [
    "Q2. When does the code in a function run: when it's specified or when it's called?\n",
    " ans - when it's called"
   ]
  },
  {
   "cell_type": "markdown",
   "id": "7c4fba83",
   "metadata": {},
   "source": [
    "Q3. What statement creates a function?\n",
    "\n",
    "ans- To create a function, we must first declare it and give it a name, the same way we'd create any variable, and then we follow it by a function definition"
   ]
  },
  {
   "cell_type": "markdown",
   "id": "98af45c6",
   "metadata": {},
   "source": [
    "Q4. What is the difference between a function and a function call?\n",
    "\n",
    "ans-The Function which calls another Function is called Calling Function and function which is called by another Function is call Called Function."
   ]
  },
  {
   "cell_type": "markdown",
   "id": "b923d4a3",
   "metadata": {},
   "source": [
    "Q5. How many global scopes are there in a Python program? How many local scopes?\n",
    " ans- local scopes like 'lambda'"
   ]
  },
  {
   "cell_type": "markdown",
   "id": "9e2006d1",
   "metadata": {},
   "source": [
    "Q6. What happens to variables in a local scope when the function call returns?\n",
    "\n",
    "ans- The local variable retains its value until the next time the function is called."
   ]
  },
  {
   "cell_type": "markdown",
   "id": "c7e427f5",
   "metadata": {},
   "source": [
    "Q7. What is the concept of a return value? Is it possible to have a return value in an expression?\n",
    "\n",
    "ans- A return is a value that a function returns to the calling script or function when it completes its task."
   ]
  },
  {
   "cell_type": "markdown",
   "id": "578996e9",
   "metadata": {},
   "source": [
    "Q8. If a function does not have a return statement, what is the return value of a call to that function?\n",
    "\n",
    "ans-  If no return statement appears in a function definition, control automatically returns to the calling function after the last statement of the called function is executed"
   ]
  },
  {
   "cell_type": "markdown",
   "id": "73fcba79",
   "metadata": {},
   "source": [
    "Q9. How do you make a function variable refer to the global variable?\n",
    "\n",
    "ans-We can also instantiate global variables inside a function by using a global keyword."
   ]
  },
  {
   "cell_type": "markdown",
   "id": "5bb5033f",
   "metadata": {},
   "source": [
    "Q10.What is the data type of None?\n",
    "\n",
    "ans-None is a data type of its own (NoneType) and only None can be None.\n"
   ]
  },
  {
   "cell_type": "markdown",
   "id": "8968eaa8",
   "metadata": {},
   "source": [
    "Q11. What does the sentence import areallyourpetsnamederic do?\n",
    "\n",
    "ans-  That import sentence imports a module named areallyourpetsnamederic."
   ]
  },
  {
   "cell_type": "markdown",
   "id": "93b10f9f",
   "metadata": {},
   "source": [
    "Q12. If you had a bacon() feature in a spam module, what would you call it after importing spam? \n",
    "\n",
    "ans-  import spam\n",
    "spam.bacon()"
   ]
  },
  {
   "cell_type": "markdown",
   "id": "22cd5720",
   "metadata": {},
   "source": [
    "Q13. What can you do to save a programme from crashing if it encounters an error?\n",
    "\n",
    "Ans. We can use try except clause to save a program from crashing."
   ]
  },
  {
   "cell_type": "markdown",
   "id": "cc636c1c",
   "metadata": {},
   "source": [
    "Q14. What is the purpose of the try clause? What is the purpose of the except clause?\n",
    "\n",
    "Ans. Try and Except clause is used to handle the errors within our code . The try block is used to check some code for errors i.e the code inside the try block will execute when there is no error in the program. Whereas the code inside the except block will execute whenever the program encounters some error in the try block.\n"
   ]
  },
  {
   "cell_type": "code",
   "execution_count": null,
   "id": "aac0b620",
   "metadata": {},
   "outputs": [],
   "source": []
  }
 ],
 "metadata": {
  "kernelspec": {
   "display_name": "Python 3 (ipykernel)",
   "language": "python",
   "name": "python3"
  },
  "language_info": {
   "codemirror_mode": {
    "name": "ipython",
    "version": 3
   },
   "file_extension": ".py",
   "mimetype": "text/x-python",
   "name": "python",
   "nbconvert_exporter": "python",
   "pygments_lexer": "ipython3",
   "version": "3.9.12"
  }
 },
 "nbformat": 4,
 "nbformat_minor": 5
}
