{
 "cells": [
  {
   "cell_type": "code",
   "execution_count": 1,
   "id": "b61a4122",
   "metadata": {},
   "outputs": [
    {
     "name": "stdout",
     "output_type": "stream",
     "text": [
      "unique values are: {64, 1, 66, 3, 0, 4, 7, 8, 45, 47, 17, 81, 21}\n"
     ]
    }
   ],
   "source": [
    "#Q1. Write a Python program to Extract Unique values dictionary values?\n",
    "\n",
    "\n",
    "dict1 = {'a' : [3, 64, 17, 66],\n",
    "             'b' : [1, 21, 47, 45],\n",
    "             'c' : [0, 17, 7, 81],\n",
    "             'd' : [3, 3, 4,8]}\n",
    "\n",
    "un_val = set([ele for val in dict1.values() for ele in val])\n",
    "print(\"unique values are: {}\".format(un_val))"
   ]
  },
  {
   "cell_type": "code",
   "execution_count": 2,
   "id": "b3ea7b0f",
   "metadata": {},
   "outputs": [
    {
     "name": "stdout",
     "output_type": "stream",
     "text": [
      "Sun of all items: 420\n"
     ]
    }
   ],
   "source": [
    "#Q2. Write a Python program to find the sum of all items in a dictionary?\n",
    "\n",
    "\n",
    "dict2 = {'a' : 22,\n",
    "             'b' :  21,\n",
    "             'c' : 52,\n",
    "             'd' : 56}\n",
    "\n",
    "sum = 0\n",
    "for i in dict2.values():\n",
    "    sum +=sum + i\n",
    "print(\"Sun of all items: {}\".format(sum))"
   ]
  },
  {
   "cell_type": "code",
   "execution_count": 3,
   "id": "721cbc02",
   "metadata": {},
   "outputs": [
    {
     "name": "stdout",
     "output_type": "stream",
     "text": [
      "dict a :  {'x': 2, 'y': 3}\n",
      "Dict b :  {'y': 5, 'z': 6}\n",
      "updated dictionary : {'x': 2, 'y': 5, 'z': 6}\n"
     ]
    }
   ],
   "source": [
    "#Q3. rite a Python program to Merging two Dictionaries?\n",
    "\n",
    "\n",
    "one = { 'x': 2, 'y': 3}\n",
    "two = { 'y': 5, 'z': 6}\n",
    "both = one.copy()\n",
    "both.update(two)\n",
    "print(\"dict a : \", one)\n",
    "print(\"Dict b : \", two)\n",
    "print('updated dictionary : {}'.format(both))"
   ]
  },
  {
   "cell_type": "code",
   "execution_count": 4,
   "id": "9ac80919",
   "metadata": {},
   "outputs": [
    {
     "name": "stdout",
     "output_type": "stream",
     "text": [
      "The original dictionary is : {'month': [1, 2, 3], 'name': ['Jan', 'Feb', 'March']}\n",
      "Flattened dictionary : {1: 'Jan', 2: 'Feb', 3: 'March'}\n"
     ]
    }
   ],
   "source": [
    "#Q4. Write a Python program to convert key-values list to flat dictionary?\n",
    "\n",
    "\n",
    "test_dict = {'month' : [1, 2, 3],\n",
    "             'name' : ['Jan', 'Feb', 'March']}\n",
    "  \n",
    "# printing original dictionary\n",
    "print(\"The original dictionary is : \" + str(test_dict))\n",
    "  \n",
    "# Convert key-values list to flat dictionary\n",
    "# Using dict() + zip()\n",
    "res = dict(zip(test_dict['month'], test_dict['name']))\n",
    "  \n",
    "# printing result \n",
    "print(\"Flattened dictionary : \" + str(res))"
   ]
  },
  {
   "cell_type": "code",
   "execution_count": 5,
   "id": "34fadd7d",
   "metadata": {},
   "outputs": [
    {
     "name": "stdout",
     "output_type": "stream",
     "text": [
      "Ordered Dictionary  : OrderedDict([('Jan', '1'), ('Feb', '2'), ('Mar', '3')])\n"
     ]
    }
   ],
   "source": [
    "#Q5. Write a Python program to insertion at the beginning in OrderedDict?\n",
    "\n",
    "\n",
    "# insertion of items in beginning of ordered dict\n",
    "from collections import OrderedDict\n",
    "  \n",
    "# initialising ordered_dict\n",
    "iniordered_dict = OrderedDict([('Feb', '2'), ('Mar', '3')])\n",
    "  \n",
    "# inserting items in starting of dict \n",
    "iniordered_dict.update({'Jan':'1'})\n",
    "iniordered_dict.move_to_end('Jan', last = False)\n",
    "  \n",
    "# print result\n",
    "print (\"Ordered Dictionary  : \"+str(iniordered_dict))"
   ]
  },
  {
   "cell_type": "code",
   "execution_count": null,
   "id": "85d72ac7",
   "metadata": {},
   "outputs": [],
   "source": []
  }
 ],
 "metadata": {
  "kernelspec": {
   "display_name": "Python 3 (ipykernel)",
   "language": "python",
   "name": "python3"
  },
  "language_info": {
   "codemirror_mode": {
    "name": "ipython",
    "version": 3
   },
   "file_extension": ".py",
   "mimetype": "text/x-python",
   "name": "python",
   "nbconvert_exporter": "python",
   "pygments_lexer": "ipython3",
   "version": "3.9.12"
  }
 },
 "nbformat": 4,
 "nbformat_minor": 5
}
